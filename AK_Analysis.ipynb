{
 "cells": [
  {
   "cell_type": "code",
   "execution_count": 75,
   "id": "provincial-difficulty",
   "metadata": {},
   "outputs": [],
   "source": [
    "import pandas as pd\n",
    "import numpy as np\n",
    "import matplotlib.pyplot as plt\n",
    "import scipy.stats as st\n",
    "from scipy.stats import sem\n",
    "from scipy.stats import linregress"
   ]
  },
  {
   "cell_type": "code",
   "execution_count": 3,
   "id": "basic-campbell",
   "metadata": {
    "scrolled": true
   },
   "outputs": [
    {
     "data": {
      "text/html": [
       "<div>\n",
       "<style scoped>\n",
       "    .dataframe tbody tr th:only-of-type {\n",
       "        vertical-align: middle;\n",
       "    }\n",
       "\n",
       "    .dataframe tbody tr th {\n",
       "        vertical-align: top;\n",
       "    }\n",
       "\n",
       "    .dataframe thead th {\n",
       "        text-align: right;\n",
       "    }\n",
       "</style>\n",
       "<table border=\"1\" class=\"dataframe\">\n",
       "  <thead>\n",
       "    <tr style=\"text-align: right;\">\n",
       "      <th></th>\n",
       "      <th>StateCodes</th>\n",
       "      <th>State</th>\n",
       "      <th>Region</th>\n",
       "      <th>Division</th>\n",
       "      <th>Coast</th>\n",
       "      <th>Great Lakes</th>\n",
       "      <th>TotalC2010</th>\n",
       "      <th>TotalC2011</th>\n",
       "      <th>TotalC2012</th>\n",
       "      <th>TotalC2013</th>\n",
       "      <th>...</th>\n",
       "      <th>RINTERNATIONALMIG2013</th>\n",
       "      <th>RINTERNATIONALMIG2014</th>\n",
       "      <th>RDOMESTICMIG2011</th>\n",
       "      <th>RDOMESTICMIG2012</th>\n",
       "      <th>RDOMESTICMIG2013</th>\n",
       "      <th>RDOMESTICMIG2014</th>\n",
       "      <th>RNETMIG2011</th>\n",
       "      <th>RNETMIG2012</th>\n",
       "      <th>RNETMIG2013</th>\n",
       "      <th>RNETMIG2014</th>\n",
       "    </tr>\n",
       "  </thead>\n",
       "  <tbody>\n",
       "    <tr>\n",
       "      <th>0</th>\n",
       "      <td>AL</td>\n",
       "      <td>Alabama</td>\n",
       "      <td>3.0</td>\n",
       "      <td>6.0</td>\n",
       "      <td>1.0</td>\n",
       "      <td>0.0</td>\n",
       "      <td>1931522</td>\n",
       "      <td>1905207</td>\n",
       "      <td>1879716</td>\n",
       "      <td>1919365</td>\n",
       "      <td>...</td>\n",
       "      <td>1.165832</td>\n",
       "      <td>1.157861</td>\n",
       "      <td>-0.020443</td>\n",
       "      <td>-0.168414</td>\n",
       "      <td>0.396416</td>\n",
       "      <td>0.420102</td>\n",
       "      <td>1.011941</td>\n",
       "      <td>1.001333</td>\n",
       "      <td>1.562247</td>\n",
       "      <td>1.577963</td>\n",
       "    </tr>\n",
       "    <tr>\n",
       "      <th>1</th>\n",
       "      <td>AK</td>\n",
       "      <td>Alaska</td>\n",
       "      <td>4.0</td>\n",
       "      <td>9.0</td>\n",
       "      <td>1.0</td>\n",
       "      <td>0.0</td>\n",
       "      <td>653221</td>\n",
       "      <td>653637</td>\n",
       "      <td>649341</td>\n",
       "      <td>621107</td>\n",
       "      <td>...</td>\n",
       "      <td>3.203618</td>\n",
       "      <td>2.869760</td>\n",
       "      <td>-1.175137</td>\n",
       "      <td>-1.949571</td>\n",
       "      <td>-3.789313</td>\n",
       "      <td>-13.754494</td>\n",
       "      <td>0.948185</td>\n",
       "      <td>1.835376</td>\n",
       "      <td>-0.585695</td>\n",
       "      <td>-10.884734</td>\n",
       "    </tr>\n",
       "    <tr>\n",
       "      <th>2</th>\n",
       "      <td>AZ</td>\n",
       "      <td>Arizona</td>\n",
       "      <td>4.0</td>\n",
       "      <td>8.0</td>\n",
       "      <td>0.0</td>\n",
       "      <td>0.0</td>\n",
       "      <td>1383531</td>\n",
       "      <td>1424944</td>\n",
       "      <td>1395839</td>\n",
       "      <td>1414383</td>\n",
       "      <td>...</td>\n",
       "      <td>1.090035</td>\n",
       "      <td>1.091283</td>\n",
       "      <td>1.341472</td>\n",
       "      <td>-0.420875</td>\n",
       "      <td>-0.580562</td>\n",
       "      <td>-1.313050</td>\n",
       "      <td>2.317801</td>\n",
       "      <td>0.621971</td>\n",
       "      <td>0.509473</td>\n",
       "      <td>-0.221767</td>\n",
       "    </tr>\n",
       "    <tr>\n",
       "      <th>3</th>\n",
       "      <td>AR</td>\n",
       "      <td>Arkansas</td>\n",
       "      <td>3.0</td>\n",
       "      <td>7.0</td>\n",
       "      <td>0.0</td>\n",
       "      <td>0.0</td>\n",
       "      <td>1120632</td>\n",
       "      <td>1122544</td>\n",
       "      <td>1067642</td>\n",
       "      <td>1096438</td>\n",
       "      <td>...</td>\n",
       "      <td>2.141877</td>\n",
       "      <td>2.129805</td>\n",
       "      <td>1.369514</td>\n",
       "      <td>5.131282</td>\n",
       "      <td>3.910476</td>\n",
       "      <td>6.280636</td>\n",
       "      <td>3.336628</td>\n",
       "      <td>7.155212</td>\n",
       "      <td>6.052353</td>\n",
       "      <td>8.410441</td>\n",
       "    </tr>\n",
       "    <tr>\n",
       "      <th>4</th>\n",
       "      <td>CA</td>\n",
       "      <td>California</td>\n",
       "      <td>4.0</td>\n",
       "      <td>9.0</td>\n",
       "      <td>1.0</td>\n",
       "      <td>0.0</td>\n",
       "      <td>7760629</td>\n",
       "      <td>7777115</td>\n",
       "      <td>7564063</td>\n",
       "      <td>7665241</td>\n",
       "      <td>...</td>\n",
       "      <td>4.207353</td>\n",
       "      <td>4.177389</td>\n",
       "      <td>-1.162079</td>\n",
       "      <td>-1.173951</td>\n",
       "      <td>-1.341226</td>\n",
       "      <td>-0.830982</td>\n",
       "      <td>2.761377</td>\n",
       "      <td>2.772770</td>\n",
       "      <td>2.866127</td>\n",
       "      <td>3.346406</td>\n",
       "    </tr>\n",
       "  </tbody>\n",
       "</table>\n",
       "<p>5 rows × 192 columns</p>\n",
       "</div>"
      ],
      "text/plain": [
       "  StateCodes       State  Region  Division  Coast  Great Lakes  TotalC2010  \\\n",
       "0         AL     Alabama     3.0       6.0    1.0          0.0     1931522   \n",
       "1         AK      Alaska     4.0       9.0    1.0          0.0      653221   \n",
       "2         AZ     Arizona     4.0       8.0    0.0          0.0     1383531   \n",
       "3         AR    Arkansas     3.0       7.0    0.0          0.0     1120632   \n",
       "4         CA  California     4.0       9.0    1.0          0.0     7760629   \n",
       "\n",
       "   TotalC2011  TotalC2012  TotalC2013  ...  RINTERNATIONALMIG2013  \\\n",
       "0     1905207     1879716     1919365  ...               1.165832   \n",
       "1      653637      649341      621107  ...               3.203618   \n",
       "2     1424944     1395839     1414383  ...               1.090035   \n",
       "3     1122544     1067642     1096438  ...               2.141877   \n",
       "4     7777115     7564063     7665241  ...               4.207353   \n",
       "\n",
       "   RINTERNATIONALMIG2014  RDOMESTICMIG2011  RDOMESTICMIG2012  \\\n",
       "0               1.157861         -0.020443         -0.168414   \n",
       "1               2.869760         -1.175137         -1.949571   \n",
       "2               1.091283          1.341472         -0.420875   \n",
       "3               2.129805          1.369514          5.131282   \n",
       "4               4.177389         -1.162079         -1.173951   \n",
       "\n",
       "   RDOMESTICMIG2013  RDOMESTICMIG2014  RNETMIG2011  RNETMIG2012  RNETMIG2013  \\\n",
       "0          0.396416          0.420102     1.011941     1.001333     1.562247   \n",
       "1         -3.789313        -13.754494     0.948185     1.835376    -0.585695   \n",
       "2         -0.580562         -1.313050     2.317801     0.621971     0.509473   \n",
       "3          3.910476          6.280636     3.336628     7.155212     6.052353   \n",
       "4         -1.341226         -0.830982     2.761377     2.772770     2.866127   \n",
       "\n",
       "   RNETMIG2014  \n",
       "0     1.577963  \n",
       "1   -10.884734  \n",
       "2    -0.221767  \n",
       "3     8.410441  \n",
       "4     3.346406  \n",
       "\n",
       "[5 rows x 192 columns]"
      ]
     },
     "execution_count": 3,
     "metadata": {},
     "output_type": "execute_result"
    }
   ],
   "source": [
    "csv_path = \"Energy Census and Economic Data US 2010-2014.csv\"\n",
    "df = pd.read_csv(csv_path)\n",
    "df.head()"
   ]
  },
  {
   "cell_type": "code",
   "execution_count": 4,
   "id": "outer-routine",
   "metadata": {},
   "outputs": [
    {
     "name": "stderr",
     "output_type": "stream",
     "text": [
      "<ipython-input-4-6f485475e200>:4: SettingWithCopyWarning: \n",
      "A value is trying to be set on a copy of a slice from a DataFrame.\n",
      "Try using .loc[row_indexer,col_indexer] = value instead\n",
      "\n",
      "See the caveats in the documentation: https://pandas.pydata.org/pandas-docs/stable/user_guide/indexing.html#returning-a-view-versus-a-copy\n",
      "  df_totals[\"Sum_Total\"] = df[\"TotalC2010\"] + df[\"TotalC2011\"] + df[\"TotalC2012\"]+ df[\"TotalC2013\"] + df[\"TotalC2014\"]\n"
     ]
    },
    {
     "data": {
      "text/html": [
       "<div>\n",
       "<style scoped>\n",
       "    .dataframe tbody tr th:only-of-type {\n",
       "        vertical-align: middle;\n",
       "    }\n",
       "\n",
       "    .dataframe tbody tr th {\n",
       "        vertical-align: top;\n",
       "    }\n",
       "\n",
       "    .dataframe thead th {\n",
       "        text-align: right;\n",
       "    }\n",
       "</style>\n",
       "<table border=\"1\" class=\"dataframe\">\n",
       "  <thead>\n",
       "    <tr style=\"text-align: right;\">\n",
       "      <th></th>\n",
       "      <th>StateCodes</th>\n",
       "      <th>TotalC2010</th>\n",
       "      <th>TotalC2011</th>\n",
       "      <th>TotalC2012</th>\n",
       "      <th>TotalC2013</th>\n",
       "      <th>TotalC2014</th>\n",
       "      <th>Sum_Total</th>\n",
       "    </tr>\n",
       "  </thead>\n",
       "  <tbody>\n",
       "    <tr>\n",
       "      <th>0</th>\n",
       "      <td>AL</td>\n",
       "      <td>1931522</td>\n",
       "      <td>1905207</td>\n",
       "      <td>1879716</td>\n",
       "      <td>1919365</td>\n",
       "      <td>1958221</td>\n",
       "      <td>9594031</td>\n",
       "    </tr>\n",
       "    <tr>\n",
       "      <th>1</th>\n",
       "      <td>AK</td>\n",
       "      <td>653221</td>\n",
       "      <td>653637</td>\n",
       "      <td>649341</td>\n",
       "      <td>621107</td>\n",
       "      <td>603119</td>\n",
       "      <td>3180425</td>\n",
       "    </tr>\n",
       "    <tr>\n",
       "      <th>2</th>\n",
       "      <td>AZ</td>\n",
       "      <td>1383531</td>\n",
       "      <td>1424944</td>\n",
       "      <td>1395839</td>\n",
       "      <td>1414383</td>\n",
       "      <td>1422590</td>\n",
       "      <td>7041287</td>\n",
       "    </tr>\n",
       "    <tr>\n",
       "      <th>3</th>\n",
       "      <td>AR</td>\n",
       "      <td>1120632</td>\n",
       "      <td>1122544</td>\n",
       "      <td>1067642</td>\n",
       "      <td>1096438</td>\n",
       "      <td>1114409</td>\n",
       "      <td>5521665</td>\n",
       "    </tr>\n",
       "    <tr>\n",
       "      <th>4</th>\n",
       "      <td>CA</td>\n",
       "      <td>7760629</td>\n",
       "      <td>7777115</td>\n",
       "      <td>7564063</td>\n",
       "      <td>7665241</td>\n",
       "      <td>7620082</td>\n",
       "      <td>38387130</td>\n",
       "    </tr>\n",
       "  </tbody>\n",
       "</table>\n",
       "</div>"
      ],
      "text/plain": [
       "  StateCodes  TotalC2010  TotalC2011  TotalC2012  TotalC2013  TotalC2014  \\\n",
       "0         AL     1931522     1905207     1879716     1919365     1958221   \n",
       "1         AK      653221      653637      649341      621107      603119   \n",
       "2         AZ     1383531     1424944     1395839     1414383     1422590   \n",
       "3         AR     1120632     1122544     1067642     1096438     1114409   \n",
       "4         CA     7760629     7777115     7564063     7665241     7620082   \n",
       "\n",
       "   Sum_Total  \n",
       "0    9594031  \n",
       "1    3180425  \n",
       "2    7041287  \n",
       "3    5521665  \n",
       "4   38387130  "
      ]
     },
     "execution_count": 4,
     "metadata": {},
     "output_type": "execute_result"
    }
   ],
   "source": [
    "df_totals = df[[\"StateCodes\", \"TotalC2010\", \"TotalC2011\", \"TotalC2012\", \"TotalC2013\", \"TotalC2014\"]]\n",
    "df_totals.head()\n",
    "\n",
    "df_totals[\"Sum_Total\"] = df[\"TotalC2010\"] + df[\"TotalC2011\"] + df[\"TotalC2012\"]+ df[\"TotalC2013\"] + df[\"TotalC2014\"]\n",
    "df_totals.head()"
   ]
  },
  {
   "cell_type": "code",
   "execution_count": 47,
   "id": "black-tractor",
   "metadata": {},
   "outputs": [
    {
     "data": {
      "text/html": [
       "<div>\n",
       "<style scoped>\n",
       "    .dataframe tbody tr th:only-of-type {\n",
       "        vertical-align: middle;\n",
       "    }\n",
       "\n",
       "    .dataframe tbody tr th {\n",
       "        vertical-align: top;\n",
       "    }\n",
       "\n",
       "    .dataframe thead th {\n",
       "        text-align: right;\n",
       "    }\n",
       "</style>\n",
       "<table border=\"1\" class=\"dataframe\">\n",
       "  <thead>\n",
       "    <tr style=\"text-align: right;\">\n",
       "      <th></th>\n",
       "      <th>StateCodes</th>\n",
       "      <th>TotalC2010</th>\n",
       "      <th>TotalC2011</th>\n",
       "      <th>TotalC2012</th>\n",
       "      <th>TotalC2013</th>\n",
       "      <th>TotalC2014</th>\n",
       "      <th>Sum_Total</th>\n",
       "    </tr>\n",
       "  </thead>\n",
       "  <tbody>\n",
       "    <tr>\n",
       "      <th>51</th>\n",
       "      <td>US</td>\n",
       "      <td>97446021</td>\n",
       "      <td>96827465</td>\n",
       "      <td>94411432</td>\n",
       "      <td>97141368</td>\n",
       "      <td>98385210</td>\n",
       "      <td>484211496</td>\n",
       "    </tr>\n",
       "    <tr>\n",
       "      <th>42</th>\n",
       "      <td>TX</td>\n",
       "      <td>11687521</td>\n",
       "      <td>11906249</td>\n",
       "      <td>11931169</td>\n",
       "      <td>12660976</td>\n",
       "      <td>12899498</td>\n",
       "      <td>61085413</td>\n",
       "    </tr>\n",
       "    <tr>\n",
       "      <th>4</th>\n",
       "      <td>CA</td>\n",
       "      <td>7760629</td>\n",
       "      <td>7777115</td>\n",
       "      <td>7564063</td>\n",
       "      <td>7665241</td>\n",
       "      <td>7620082</td>\n",
       "      <td>38387130</td>\n",
       "    </tr>\n",
       "    <tr>\n",
       "      <th>17</th>\n",
       "      <td>LA</td>\n",
       "      <td>4385758</td>\n",
       "      <td>4388867</td>\n",
       "      <td>4255161</td>\n",
       "      <td>4196622</td>\n",
       "      <td>4279443</td>\n",
       "      <td>21505851</td>\n",
       "    </tr>\n",
       "    <tr>\n",
       "      <th>8</th>\n",
       "      <td>FL</td>\n",
       "      <td>4282673</td>\n",
       "      <td>4141711</td>\n",
       "      <td>4029903</td>\n",
       "      <td>4076406</td>\n",
       "      <td>4121680</td>\n",
       "      <td>20652373</td>\n",
       "    </tr>\n",
       "    <tr>\n",
       "      <th>12</th>\n",
       "      <td>IL</td>\n",
       "      <td>3955091</td>\n",
       "      <td>3937616</td>\n",
       "      <td>3820547</td>\n",
       "      <td>3991089</td>\n",
       "      <td>4042313</td>\n",
       "      <td>19746656</td>\n",
       "    </tr>\n",
       "    <tr>\n",
       "      <th>37</th>\n",
       "      <td>PA</td>\n",
       "      <td>3752280</td>\n",
       "      <td>3725014</td>\n",
       "      <td>3623997</td>\n",
       "      <td>3826959</td>\n",
       "      <td>3902434</td>\n",
       "      <td>18830684</td>\n",
       "    </tr>\n",
       "    <tr>\n",
       "      <th>34</th>\n",
       "      <td>OH</td>\n",
       "      <td>3824933</td>\n",
       "      <td>3792585</td>\n",
       "      <td>3655849</td>\n",
       "      <td>3739974</td>\n",
       "      <td>3809648</td>\n",
       "      <td>18822989</td>\n",
       "    </tr>\n",
       "    <tr>\n",
       "      <th>31</th>\n",
       "      <td>NY</td>\n",
       "      <td>3723729</td>\n",
       "      <td>3611091</td>\n",
       "      <td>3503309</td>\n",
       "      <td>3626150</td>\n",
       "      <td>3742892</td>\n",
       "      <td>18207171</td>\n",
       "    </tr>\n",
       "    <tr>\n",
       "      <th>9</th>\n",
       "      <td>GA</td>\n",
       "      <td>3100144</td>\n",
       "      <td>2982837</td>\n",
       "      <td>2767491</td>\n",
       "      <td>2782782</td>\n",
       "      <td>2850990</td>\n",
       "      <td>14484244</td>\n",
       "    </tr>\n",
       "  </tbody>\n",
       "</table>\n",
       "</div>"
      ],
      "text/plain": [
       "   StateCodes  TotalC2010  TotalC2011  TotalC2012  TotalC2013  TotalC2014  \\\n",
       "51         US    97446021    96827465    94411432    97141368    98385210   \n",
       "42         TX    11687521    11906249    11931169    12660976    12899498   \n",
       "4          CA     7760629     7777115     7564063     7665241     7620082   \n",
       "17         LA     4385758     4388867     4255161     4196622     4279443   \n",
       "8          FL     4282673     4141711     4029903     4076406     4121680   \n",
       "12         IL     3955091     3937616     3820547     3991089     4042313   \n",
       "37         PA     3752280     3725014     3623997     3826959     3902434   \n",
       "34         OH     3824933     3792585     3655849     3739974     3809648   \n",
       "31         NY     3723729     3611091     3503309     3626150     3742892   \n",
       "9          GA     3100144     2982837     2767491     2782782     2850990   \n",
       "\n",
       "    Sum_Total  \n",
       "51  484211496  \n",
       "42   61085413  \n",
       "4    38387130  \n",
       "17   21505851  \n",
       "8    20652373  \n",
       "12   19746656  \n",
       "37   18830684  \n",
       "34   18822989  \n",
       "31   18207171  \n",
       "9    14484244  "
      ]
     },
     "execution_count": 47,
     "metadata": {},
     "output_type": "execute_result"
    }
   ],
   "source": [
    "df_totals_sort = df_totals.sort_values(\"Sum_Total\", ascending=False)\n",
    "df_totals_sort.head(10)\n",
    "\n",
    "#Top 5 are TX, CA, LA, FL, and IL\n",
    "#161,377,423 total, or 33.33% of total emissions from US"
   ]
  },
  {
   "cell_type": "code",
   "execution_count": 16,
   "id": "hydraulic-parcel",
   "metadata": {},
   "outputs": [
    {
     "data": {
      "text/plain": [
       "18624097.153846152"
      ]
     },
     "execution_count": 16,
     "metadata": {},
     "output_type": "execute_result"
    }
   ],
   "source": [
    "df_totals[\"Sum_Total\"].mean()\n",
    "#Average consumption was 18,624097.15 BTU for these data"
   ]
  },
  {
   "cell_type": "code",
   "execution_count": 46,
   "id": "entire-tonight",
   "metadata": {},
   "outputs": [
    {
     "data": {
      "text/html": [
       "<div>\n",
       "<style scoped>\n",
       "    .dataframe tbody tr th:only-of-type {\n",
       "        vertical-align: middle;\n",
       "    }\n",
       "\n",
       "    .dataframe tbody tr th {\n",
       "        vertical-align: top;\n",
       "    }\n",
       "\n",
       "    .dataframe thead th {\n",
       "        text-align: right;\n",
       "    }\n",
       "</style>\n",
       "<table border=\"1\" class=\"dataframe\">\n",
       "  <thead>\n",
       "    <tr style=\"text-align: right;\">\n",
       "      <th></th>\n",
       "      <th>StateCodes</th>\n",
       "      <th>State</th>\n",
       "      <th>Region</th>\n",
       "      <th>Division</th>\n",
       "      <th>Coast</th>\n",
       "      <th>Great Lakes</th>\n",
       "      <th>TotalC2010</th>\n",
       "      <th>TotalC2011</th>\n",
       "      <th>TotalC2012</th>\n",
       "      <th>TotalC2013</th>\n",
       "      <th>...</th>\n",
       "      <th>RINTERNATIONALMIG2013</th>\n",
       "      <th>RINTERNATIONALMIG2014</th>\n",
       "      <th>RDOMESTICMIG2011</th>\n",
       "      <th>RDOMESTICMIG2012</th>\n",
       "      <th>RDOMESTICMIG2013</th>\n",
       "      <th>RDOMESTICMIG2014</th>\n",
       "      <th>RNETMIG2011</th>\n",
       "      <th>RNETMIG2012</th>\n",
       "      <th>RNETMIG2013</th>\n",
       "      <th>RNETMIG2014</th>\n",
       "    </tr>\n",
       "  </thead>\n",
       "  <tbody>\n",
       "    <tr>\n",
       "      <th>4</th>\n",
       "      <td>CA</td>\n",
       "      <td>California</td>\n",
       "      <td>4.0</td>\n",
       "      <td>9.0</td>\n",
       "      <td>1.0</td>\n",
       "      <td>0.0</td>\n",
       "      <td>7760629</td>\n",
       "      <td>7777115</td>\n",
       "      <td>7564063</td>\n",
       "      <td>7665241</td>\n",
       "      <td>...</td>\n",
       "      <td>4.207353</td>\n",
       "      <td>4.177389</td>\n",
       "      <td>-1.162079</td>\n",
       "      <td>-1.173951</td>\n",
       "      <td>-1.341226</td>\n",
       "      <td>-0.830982</td>\n",
       "      <td>2.761377</td>\n",
       "      <td>2.772770</td>\n",
       "      <td>2.866127</td>\n",
       "      <td>3.346406</td>\n",
       "    </tr>\n",
       "    <tr>\n",
       "      <th>8</th>\n",
       "      <td>FL</td>\n",
       "      <td>Florida</td>\n",
       "      <td>3.0</td>\n",
       "      <td>5.0</td>\n",
       "      <td>1.0</td>\n",
       "      <td>0.0</td>\n",
       "      <td>4282673</td>\n",
       "      <td>4141711</td>\n",
       "      <td>4029903</td>\n",
       "      <td>4076406</td>\n",
       "      <td>...</td>\n",
       "      <td>5.783717</td>\n",
       "      <td>5.687300</td>\n",
       "      <td>5.540393</td>\n",
       "      <td>5.125320</td>\n",
       "      <td>4.918783</td>\n",
       "      <td>7.016123</td>\n",
       "      <td>11.359606</td>\n",
       "      <td>10.722573</td>\n",
       "      <td>10.702501</td>\n",
       "      <td>12.703423</td>\n",
       "    </tr>\n",
       "    <tr>\n",
       "      <th>12</th>\n",
       "      <td>IL</td>\n",
       "      <td>Illinois</td>\n",
       "      <td>2.0</td>\n",
       "      <td>3.0</td>\n",
       "      <td>0.0</td>\n",
       "      <td>1.0</td>\n",
       "      <td>3955091</td>\n",
       "      <td>3937616</td>\n",
       "      <td>3820547</td>\n",
       "      <td>3991089</td>\n",
       "      <td>...</td>\n",
       "      <td>2.505015</td>\n",
       "      <td>2.518554</td>\n",
       "      <td>-5.424762</td>\n",
       "      <td>-5.690472</td>\n",
       "      <td>-5.238098</td>\n",
       "      <td>-7.369176</td>\n",
       "      <td>-3.182714</td>\n",
       "      <td>-3.382339</td>\n",
       "      <td>-2.733083</td>\n",
       "      <td>-4.850621</td>\n",
       "    </tr>\n",
       "    <tr>\n",
       "      <th>17</th>\n",
       "      <td>LA</td>\n",
       "      <td>Louisiana</td>\n",
       "      <td>3.0</td>\n",
       "      <td>7.0</td>\n",
       "      <td>1.0</td>\n",
       "      <td>0.0</td>\n",
       "      <td>4385758</td>\n",
       "      <td>4388867</td>\n",
       "      <td>4255161</td>\n",
       "      <td>4196622</td>\n",
       "      <td>...</td>\n",
       "      <td>1.651933</td>\n",
       "      <td>1.620656</td>\n",
       "      <td>0.454747</td>\n",
       "      <td>-0.167961</td>\n",
       "      <td>-0.496858</td>\n",
       "      <td>-1.311569</td>\n",
       "      <td>1.940240</td>\n",
       "      <td>1.525589</td>\n",
       "      <td>1.155076</td>\n",
       "      <td>0.309086</td>\n",
       "    </tr>\n",
       "    <tr>\n",
       "      <th>42</th>\n",
       "      <td>TX</td>\n",
       "      <td>Texas</td>\n",
       "      <td>3.0</td>\n",
       "      <td>7.0</td>\n",
       "      <td>1.0</td>\n",
       "      <td>0.0</td>\n",
       "      <td>11687521</td>\n",
       "      <td>11906249</td>\n",
       "      <td>11931169</td>\n",
       "      <td>12660976</td>\n",
       "      <td>...</td>\n",
       "      <td>3.201213</td>\n",
       "      <td>3.166214</td>\n",
       "      <td>4.577945</td>\n",
       "      <td>5.630982</td>\n",
       "      <td>4.428284</td>\n",
       "      <td>5.778507</td>\n",
       "      <td>7.675275</td>\n",
       "      <td>8.724163</td>\n",
       "      <td>7.629497</td>\n",
       "      <td>8.944721</td>\n",
       "    </tr>\n",
       "    <tr>\n",
       "      <th>51</th>\n",
       "      <td>US</td>\n",
       "      <td>United States</td>\n",
       "      <td>NaN</td>\n",
       "      <td>NaN</td>\n",
       "      <td>NaN</td>\n",
       "      <td>NaN</td>\n",
       "      <td>97446021</td>\n",
       "      <td>96827465</td>\n",
       "      <td>94411432</td>\n",
       "      <td>97141368</td>\n",
       "      <td>...</td>\n",
       "      <td>3.168211</td>\n",
       "      <td>3.135081</td>\n",
       "      <td>NaN</td>\n",
       "      <td>NaN</td>\n",
       "      <td>NaN</td>\n",
       "      <td>NaN</td>\n",
       "      <td>2.941968</td>\n",
       "      <td>3.051932</td>\n",
       "      <td>3.168211</td>\n",
       "      <td>3.135081</td>\n",
       "    </tr>\n",
       "  </tbody>\n",
       "</table>\n",
       "<p>6 rows × 192 columns</p>\n",
       "</div>"
      ],
      "text/plain": [
       "   StateCodes          State  Region  Division  Coast  Great Lakes  \\\n",
       "4          CA     California     4.0       9.0    1.0          0.0   \n",
       "8          FL        Florida     3.0       5.0    1.0          0.0   \n",
       "12         IL       Illinois     2.0       3.0    0.0          1.0   \n",
       "17         LA      Louisiana     3.0       7.0    1.0          0.0   \n",
       "42         TX          Texas     3.0       7.0    1.0          0.0   \n",
       "51         US  United States     NaN       NaN    NaN          NaN   \n",
       "\n",
       "    TotalC2010  TotalC2011  TotalC2012  TotalC2013  ...  \\\n",
       "4      7760629     7777115     7564063     7665241  ...   \n",
       "8      4282673     4141711     4029903     4076406  ...   \n",
       "12     3955091     3937616     3820547     3991089  ...   \n",
       "17     4385758     4388867     4255161     4196622  ...   \n",
       "42    11687521    11906249    11931169    12660976  ...   \n",
       "51    97446021    96827465    94411432    97141368  ...   \n",
       "\n",
       "    RINTERNATIONALMIG2013  RINTERNATIONALMIG2014  RDOMESTICMIG2011  \\\n",
       "4                4.207353               4.177389         -1.162079   \n",
       "8                5.783717               5.687300          5.540393   \n",
       "12               2.505015               2.518554         -5.424762   \n",
       "17               1.651933               1.620656          0.454747   \n",
       "42               3.201213               3.166214          4.577945   \n",
       "51               3.168211               3.135081               NaN   \n",
       "\n",
       "    RDOMESTICMIG2012  RDOMESTICMIG2013  RDOMESTICMIG2014  RNETMIG2011  \\\n",
       "4          -1.173951         -1.341226         -0.830982     2.761377   \n",
       "8           5.125320          4.918783          7.016123    11.359606   \n",
       "12         -5.690472         -5.238098         -7.369176    -3.182714   \n",
       "17         -0.167961         -0.496858         -1.311569     1.940240   \n",
       "42          5.630982          4.428284          5.778507     7.675275   \n",
       "51               NaN               NaN               NaN     2.941968   \n",
       "\n",
       "    RNETMIG2012  RNETMIG2013  RNETMIG2014  \n",
       "4      2.772770     2.866127     3.346406  \n",
       "8     10.722573    10.702501    12.703423  \n",
       "12    -3.382339    -2.733083    -4.850621  \n",
       "17     1.525589     1.155076     0.309086  \n",
       "42     8.724163     7.629497     8.944721  \n",
       "51     3.051932     3.168211     3.135081  \n",
       "\n",
       "[6 rows x 192 columns]"
      ]
     },
     "execution_count": 46,
     "metadata": {},
     "output_type": "execute_result"
    }
   ],
   "source": [
    "df_top5 = df.loc[(df[\"StateCodes\"] == \"US\") | (df[\"StateCodes\"] == \"TX\") |\n",
    "                 (df[\"StateCodes\"] == \"CA\") | (df[\"StateCodes\"] == \"LA\") |\n",
    "                 (df[\"StateCodes\"] == \"FL\") | (df[\"StateCodes\"] == \"IL\")]\n",
    "df_top5"
   ]
  },
  {
   "cell_type": "code",
   "execution_count": 20,
   "id": "violent-trace",
   "metadata": {},
   "outputs": [
    {
     "data": {
      "text/html": [
       "<div>\n",
       "<style scoped>\n",
       "    .dataframe tbody tr th:only-of-type {\n",
       "        vertical-align: middle;\n",
       "    }\n",
       "\n",
       "    .dataframe tbody tr th {\n",
       "        vertical-align: top;\n",
       "    }\n",
       "\n",
       "    .dataframe thead th {\n",
       "        text-align: right;\n",
       "    }\n",
       "</style>\n",
       "<table border=\"1\" class=\"dataframe\">\n",
       "  <thead>\n",
       "    <tr style=\"text-align: right;\">\n",
       "      <th></th>\n",
       "      <th>StateCodes</th>\n",
       "      <th>TotalC2010</th>\n",
       "      <th>TotalC2011</th>\n",
       "      <th>TotalC2012</th>\n",
       "      <th>TotalC2013</th>\n",
       "      <th>TotalC2014</th>\n",
       "      <th>Sum_Total</th>\n",
       "    </tr>\n",
       "  </thead>\n",
       "  <tbody>\n",
       "    <tr>\n",
       "      <th>4</th>\n",
       "      <td>CA</td>\n",
       "      <td>7760629</td>\n",
       "      <td>7777115</td>\n",
       "      <td>7564063</td>\n",
       "      <td>7665241</td>\n",
       "      <td>7620082</td>\n",
       "      <td>38387130</td>\n",
       "    </tr>\n",
       "    <tr>\n",
       "      <th>8</th>\n",
       "      <td>FL</td>\n",
       "      <td>4282673</td>\n",
       "      <td>4141711</td>\n",
       "      <td>4029903</td>\n",
       "      <td>4076406</td>\n",
       "      <td>4121680</td>\n",
       "      <td>20652373</td>\n",
       "    </tr>\n",
       "    <tr>\n",
       "      <th>12</th>\n",
       "      <td>IL</td>\n",
       "      <td>3955091</td>\n",
       "      <td>3937616</td>\n",
       "      <td>3820547</td>\n",
       "      <td>3991089</td>\n",
       "      <td>4042313</td>\n",
       "      <td>19746656</td>\n",
       "    </tr>\n",
       "    <tr>\n",
       "      <th>17</th>\n",
       "      <td>LA</td>\n",
       "      <td>4385758</td>\n",
       "      <td>4388867</td>\n",
       "      <td>4255161</td>\n",
       "      <td>4196622</td>\n",
       "      <td>4279443</td>\n",
       "      <td>21505851</td>\n",
       "    </tr>\n",
       "    <tr>\n",
       "      <th>42</th>\n",
       "      <td>TX</td>\n",
       "      <td>11687521</td>\n",
       "      <td>11906249</td>\n",
       "      <td>11931169</td>\n",
       "      <td>12660976</td>\n",
       "      <td>12899498</td>\n",
       "      <td>61085413</td>\n",
       "    </tr>\n",
       "  </tbody>\n",
       "</table>\n",
       "</div>"
      ],
      "text/plain": [
       "   StateCodes  TotalC2010  TotalC2011  TotalC2012  TotalC2013  TotalC2014  \\\n",
       "4          CA     7760629     7777115     7564063     7665241     7620082   \n",
       "8          FL     4282673     4141711     4029903     4076406     4121680   \n",
       "12         IL     3955091     3937616     3820547     3991089     4042313   \n",
       "17         LA     4385758     4388867     4255161     4196622     4279443   \n",
       "42         TX    11687521    11906249    11931169    12660976    12899498   \n",
       "\n",
       "    Sum_Total  \n",
       "4    38387130  \n",
       "8    20652373  \n",
       "12   19746656  \n",
       "17   21505851  \n",
       "42   61085413  "
      ]
     },
     "execution_count": 20,
     "metadata": {},
     "output_type": "execute_result"
    }
   ],
   "source": [
    "df_top5_totals = df_totals.loc[(df[\"StateCodes\"] == \"TX\") |\n",
    "                 (df[\"StateCodes\"] == \"CA\") | (df[\"StateCodes\"] == \"LA\") |\n",
    "                 (df[\"StateCodes\"] == \"FL\") | (df[\"StateCodes\"] == \"IL\")]\n",
    "\n",
    "df_top5_totals"
   ]
  },
  {
   "cell_type": "code",
   "execution_count": 52,
   "id": "metallic-companion",
   "metadata": {},
   "outputs": [
    {
     "data": {
      "text/plain": [
       "9494343.05882353"
      ]
     },
     "execution_count": 52,
     "metadata": {},
     "output_type": "execute_result"
    }
   ],
   "source": [
    "#Find the average consumption per state from 2010-2014\n",
    "top5_sum=df_top5_totals[\"Sum_Total\"].sum()\n",
    "all50_sum=df_totals[\"Sum_Total\"][51]\n",
    "all50_avg=all50_sum/51\n",
    "all50_avg"
   ]
  },
  {
   "cell_type": "code",
   "execution_count": 73,
   "id": "killing-cooperation",
   "metadata": {},
   "outputs": [
    {
     "data": {
      "text/plain": [
       "Text(0, 0.5, 'BTU Consumed (billions)')"
      ]
     },
     "execution_count": 73,
     "metadata": {},
     "output_type": "execute_result"
    },
    {
     "data": {
      "image/png": "[encoded data removed]",
      "text/plain": [
       "<Figure size 432x288 with 1 Axes>"
      ]
     },
     "metadata": {
      "needs_background": "light"
     },
     "output_type": "display_data"
    }
   ],
   "source": [
    "x_axis = np.arange(len(df_top5_totals))\n",
    "tick_locations = [value for value in x_axis]\n",
    "plt.bar(x_axis, df_top5_totals[\"Sum_Total\"], color=\"red\", align=\"center\")\n",
    "plt.xticks(tick_locations, df_top5_totals[\"StateCodes\"])\n",
    "plt.title(\"Top 5 Energy Consumers in the US from 2010-2014\")\n",
    "plt.hlines(y=all50_avg, xmin=-0.5, xmax=4.5)\n",
    "plt.annotate(\"Average State Consumption\", (-0.25, 6000000))\n",
    "plt.xlabel(\"State\")\n",
    "plt.ylabel(\"BTU Consumed (billions)\")"
   ]
  },
  {
   "cell_type": "code",
   "execution_count": 27,
   "id": "forty-tokyo",
   "metadata": {},
   "outputs": [
    {
     "data": {
      "text/plain": [
       "[Text(0, 0, 'CA'),\n",
       " Text(1, 0, 'FL'),\n",
       " Text(2, 0, 'IL'),\n",
       " Text(3, 0, 'LA'),\n",
       " Text(4, 0, 'TX')]"
      ]
     },
     "execution_count": 27,
     "metadata": {},
     "output_type": "execute_result"
    },
    {
     "data": {
      "image/png": "[encoded data removed]",
      "text/plain": [
       "<Figure size 432x288 with 1 Axes>"
      ]
     },
     "metadata": {
      "needs_background": "light"
     },
     "output_type": "display_data"
    }
   ],
   "source": [
    "multi_plot = df_top5_totals.plot(kind = \"bar\")\n",
    "multi_plot.set_xticklabels(df_top5_totals[\"StateCodes\"])"
   ]
  },
  {
   "cell_type": "code",
   "execution_count": 36,
   "id": "injured-karen",
   "metadata": {},
   "outputs": [
    {
     "data": {
      "text/plain": [
       "([<matplotlib.patches.Wedge at 0x200d2160670>,\n",
       "  <matplotlib.patches.Wedge at 0x200d2160b80>,\n",
       "  <matplotlib.patches.Wedge at 0x200d21700a0>,\n",
       "  <matplotlib.patches.Wedge at 0x200d2170520>,\n",
       "  <matplotlib.patches.Wedge at 0x200d2170a00>,\n",
       "  <matplotlib.patches.Wedge at 0x200d2170ee0>],\n",
       " [Text(1.0660595669751989, 0.27114018451836297, 'CA'),\n",
       "  Text(0.8874610879999629, 0.6499329329137908, 'FL'),\n",
       "  Text(0.6887391109422266, 0.857693673206531, 'IL'),\n",
       "  Text(0.4373872334316557, 1.0093029317459663, 'LA'),\n",
       "  Text(-0.13924864674579082, 1.0911506836269067, 'TX'),\n",
       "  Text(-0.5501634724233689, -0.9525335446119791, 'Remaining')])"
      ]
     },
     "execution_count": 36,
     "metadata": {},
     "output_type": "execute_result"
    },
    {
     "data": {
      "image/png": "[encoded data removed]",
      "text/plain": [
       "<Figure size 432x288 with 1 Axes>"
      ]
     },
     "metadata": {},
     "output_type": "display_data"
    }
   ],
   "source": [
    "states = [\"CA\", \"FL\", \"IL\", \"LA\", \"TX\", \"Remaining\"]\n",
    "#BTU = df_top5_totals[\"Sum_Total\"] #322834073 US Sum Total minus Top 5 totals\n",
    "BTU = [38387130, 20652373, 19746656, 21505851, 61085413, 322834073]\n",
    "colors = [\"yellow\",\"green\",\"lightblue\",\"orange\",\"red\", \"purple\"]\n",
    "\n",
    "plt.pie(BTU, labels=states, colors=colors)"
   ]
  },
  {
   "cell_type": "code",
   "execution_count": 96,
   "id": "structural-toolbox",
   "metadata": {},
   "outputs": [
    {
     "data": {
      "text/plain": [
       "Text(5000000, 0.5, 'r = 0.85')"
      ]
     },
     "execution_count": 96,
     "metadata": {},
     "output_type": "execute_result"
    },
    {
     "data": {
      "image/png": "[encoded data removed]",
      "text/plain": [
       "<Figure size 432x288 with 1 Axes>"
      ]
     },
     "metadata": {
      "needs_background": "light"
     },
     "output_type": "display_data"
    }
   ],
   "source": [
    "df_scatter = df.loc[(df[\"StateCodes\"]!=\"US\")]\n",
    "\n",
    "x_vals=df_scatter[\"TotalC2014\"]\n",
    "y_vals=df_scatter[\"GDP2014\"]\n",
    "plt.scatter(x_vals, y_vals, marker=\"o\", color = \"red\")\n",
    "cg_slope, cg_int, cg_r, cg_p, cg_std_err = st.linregress(x_vals, y_vals)\n",
    "cg_fit = cg_slope * x_vals + cg_int\n",
    "plt.title(\"Total CO2 Emissions vs. GDP by State, 2014\")\n",
    "plt.xlabel(\"Total CO2 Emissions (BTU)\")\n",
    "plt.ylabel(\"GDP (millions USD)\")\n",
    "plt.plot(x_vals, cg_fit, color = \"black\")\n",
    "plt.annotate(f\"r = {round(cg_r,2)}\", (5000000, 0.5), fontsize=18)"
   ]
  },
  {
   "cell_type": "code",
   "execution_count": 42,
   "id": "fitting-stuff",
   "metadata": {},
   "outputs": [
    {
     "data": {
      "text/plain": [
       "<matplotlib.collections.PathCollection at 0x200d228bf70>"
      ]
     },
     "execution_count": 42,
     "metadata": {},
     "output_type": "execute_result"
    },
    {
     "data": {
      "image/png": "[encoded data removed]",
      "text/plain": [
       "<Figure size 432x288 with 1 Axes>"
      ]
     },
     "metadata": {
      "needs_background": "light"
     },
     "output_type": "display_data"
    }
   ],
   "source": [
    "x_vals=df_scatter[\"TotalC2014\"]\n",
    "y_vals=df_scatter[\"RBIRTH2014\"]\n",
    "plt.scatter(x_vals, y_vals, marker=\"o\")"
   ]
  },
  {
   "cell_type": "code",
   "execution_count": 43,
   "id": "negative-profile",
   "metadata": {},
   "outputs": [
    {
     "data": {
      "text/plain": [
       "<matplotlib.collections.PathCollection at 0x200d22f9400>"
      ]
     },
     "execution_count": 43,
     "metadata": {},
     "output_type": "execute_result"
    },
    {
     "data": {
      "image/png": "[encoded data removed]",
      "text/plain": [
       "<Figure size 432x288 with 1 Axes>"
      ]
     },
     "metadata": {
      "needs_background": "light"
     },
     "output_type": "display_data"
    }
   ],
   "source": [
    "x_vals=df_scatter[\"TotalC2014\"]\n",
    "y_vals=df_scatter[\"RDEATH2014\"]\n",
    "plt.scatter(x_vals, y_vals, marker=\"o\")"
   ]
  },
  {
   "cell_type": "code",
   "execution_count": 44,
   "id": "adapted-function",
   "metadata": {},
   "outputs": [
    {
     "data": {
      "text/plain": [
       "<matplotlib.collections.PathCollection at 0x200d22b0f70>"
      ]
     },
     "execution_count": 44,
     "metadata": {},
     "output_type": "execute_result"
    },
    {
     "data": {
      "image/png": "[encoded data removed]",
      "text/plain": [
       "<Figure size 432x288 with 1 Axes>"
      ]
     },
     "metadata": {
      "needs_background": "light"
     },
     "output_type": "display_data"
    }
   ],
   "source": [
    "x_vals=df_scatter[\"TotalC2014\"]\n",
    "y_vals=df_scatter[\"RNETMIG2014\"]\n",
    "plt.scatter(x_vals, y_vals, marker=\"o\")"
   ]
  },
  {
   "cell_type": "code",
   "execution_count": null,
   "id": "solar-waste",
   "metadata": {},
   "outputs": [],
   "source": []
  }
 ],
 "metadata": {
  "kernelspec": {
   "display_name": "Python [conda env:PythonData] *",
   "language": "python",
   "name": "conda-env-PythonData-py"
  },
  "language_info": {
   "codemirror_mode": {
    "name": "ipython",
    "version": 3
   },
   "file_extension": ".py",
   "mimetype": "text/x-python",
   "name": "python",
   "nbconvert_exporter": "python",
   "pygments_lexer": "ipython3",
   "version": "3.8.8"
  }
 },
 "nbformat": 4,
 "nbformat_minor": 5
}
